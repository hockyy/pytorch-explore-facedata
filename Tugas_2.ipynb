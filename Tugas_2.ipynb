{
  "cells": [
    {
      "cell_type": "markdown",
      "metadata": {
        "id": "view-in-github",
        "colab_type": "text"
      },
      "source": [
        "<a href=\"https://colab.research.google.com/github/hockyy/pytorch-explore-facedata/blob/main/Tugas_2.ipynb\" target=\"_parent\"><img src=\"https://colab.research.google.com/assets/colab-badge.svg\" alt=\"Open In Colab\"/></a>"
      ]
    },
    {
      "cell_type": "markdown",
      "metadata": {
        "id": "cddVwfj8a6zC"
      },
      "source": [
        "# Tugas 2\n",
        "\n",
        "Silahkan dikerjakan di google colab dengan cara mengupload notebook ini dan folder dataset (unzip lebih dahulu) kedalam folder Colab Notebooks. Atau bisa dikerjakan di komputer yang sudah menginstall Pytorch \n",
        "\n",
        "\n",
        "Nama: **Hocky Yudhiono**\n",
        "\n",
        "NPM: **1906285604**"
      ]
    },
    {
      "cell_type": "code",
      "execution_count": 5,
      "metadata": {
        "id": "3cCgJDS4UD7O",
        "colab": {
          "base_uri": "https://localhost:8080/"
        },
        "outputId": "74de588b-2af8-455b-c7b5-f88ad00bf06d"
      },
      "outputs": [
        {
          "output_type": "stream",
          "name": "stdout",
          "text": [
            "Drive already mounted at /content/gdrive; to attempt to forcibly remount, call drive.mount(\"/content/gdrive\", force_remount=True).\n",
            "/content/gdrive/My Drive/Colab Notebooks\n"
          ]
        }
      ],
      "source": [
        "from google.colab import drive\n",
        "drive.mount('/content/gdrive')\n",
        "%cd /content/gdrive/My Drive/Colab Notebooks"
      ]
    },
    {
      "cell_type": "code",
      "execution_count": 7,
      "metadata": {
        "colab": {
          "base_uri": "https://localhost:8080/"
        },
        "id": "wLOOUAZKWxGf",
        "outputId": "d50ebabd-5b67-491a-86e5-77ffff184150"
      },
      "outputs": [
        {
          "output_type": "stream",
          "name": "stdout",
          "text": [
            "/content/gdrive/MyDrive/Colab Notebooks\n"
          ]
        }
      ],
      "source": [
        "!pwd"
      ]
    },
    {
      "cell_type": "code",
      "execution_count": 8,
      "metadata": {
        "colab": {
          "base_uri": "https://localhost:8080/"
        },
        "id": "dH_eZ_vFUD7V",
        "outputId": "17747b43-66bf-4fde-df93-2943ebbe9be4"
      },
      "outputs": [
        {
          "output_type": "stream",
          "name": "stdout",
          "text": [
            "Using torch 1.11.0+cu113\n"
          ]
        },
        {
          "output_type": "execute_result",
          "data": {
            "text/plain": [
              "<torch._C.Generator at 0x7f4e6ebb6c90>"
            ]
          },
          "metadata": {},
          "execution_count": 8
        }
      ],
      "source": [
        "from __future__ import print_function, division\n",
        "\n",
        "import torch\n",
        "import torch.nn as nn\n",
        "from torch import optim\n",
        "import torch.backends.cudnn as cudnn\n",
        "import torchvision\n",
        "from torchvision import datasets, models, transforms\n",
        "\n",
        "import pandas as pd\n",
        "import numpy as np\n",
        "import matplotlib.pyplot as plt\n",
        "from sklearn.metrics import confusion_matrix, classification_report\n",
        "import time\n",
        "import os\n",
        "\n",
        "cudnn.benchmark = True\n",
        "plt.ion()   # interactive mode\n",
        "\n",
        "print(\"Using torch\", torch.__version__)\n",
        "torch.manual_seed(42) # Setting the seed"
      ]
    },
    {
      "cell_type": "markdown",
      "metadata": {
        "id": "4DGF7E5AUD7Y"
      },
      "source": [
        "# Prepare Dataset and Functions"
      ]
    },
    {
      "cell_type": "code",
      "execution_count": 9,
      "metadata": {
        "colab": {
          "base_uri": "https://localhost:8080/"
        },
        "id": "KdBlrUcrUD7c",
        "outputId": "6c878c26-0534-4811-f8c7-6576f41690b6"
      },
      "outputs": [
        {
          "output_type": "execute_result",
          "data": {
            "text/plain": [
              "['Female', 'Male']"
            ]
          },
          "metadata": {},
          "execution_count": 9
        }
      ],
      "source": [
        "data_transforms = {\n",
        "    'Training': transforms.Compose([\n",
        "        transforms.Resize((48,48)),\n",
        "        transforms.ToTensor()\n",
        "    ]),\n",
        "\n",
        "    'Testing': transforms.Compose([\n",
        "        transforms.Resize((48,48)),\n",
        "        transforms.ToTensor()\n",
        "    ]),\n",
        "}\n",
        "\n",
        "# sesuaikan untuk menuju folder FaceData\n",
        "data_dir = '/content/gdrive/MyDrive/Colab Notebooks/FaceData'\n",
        "#\n",
        "\n",
        "image_datasets = {x: datasets.ImageFolder(os.path.join(data_dir, x),\n",
        "                                          data_transforms[x])\n",
        "                  for x in ['Training', 'Testing']}\n",
        "dataloaders = {x: torch.utils.data.DataLoader(image_datasets[x], batch_size=8,\n",
        "                                             shuffle=True, num_workers=2)\n",
        "              for x in ['Training', 'Testing']}\n",
        "dataset_sizes = {x: len(image_datasets[x]) for x in ['Training', 'Testing']}\n",
        "class_names = image_datasets['Training'].classes\n",
        "\n",
        "device = torch.device(\"cuda:0\" if torch.cuda.is_available() else \"cpu\")\n",
        "class_names"
      ]
    },
    {
      "cell_type": "code",
      "execution_count": 10,
      "metadata": {
        "id": "IBAuWN76UD7e"
      },
      "outputs": [],
      "source": [
        "from tqdm import tqdm\n",
        "def train_model(model, criterion, optimizer, num_epochs=25):\n",
        "    phase='Training'\n",
        "    since = time.time()\n",
        "\n",
        "    for epoch in range(num_epochs):\n",
        "        print(f'Epoch {epoch}/{num_epochs - 1}')\n",
        "        print('-' * 10)\n",
        "\n",
        "        model.train() \n",
        "\n",
        "        running_loss = 0.0\n",
        "        running_corrects = 0\n",
        "\n",
        "        for inputs, labels in tqdm(dataloaders['Training']):\n",
        "            inputs = inputs.to(device)\n",
        "            labels = labels.to(device)\n",
        "\n",
        "            optimizer.zero_grad()\n",
        "\n",
        "            outputs = model(inputs)\n",
        "            _, preds = torch.max(outputs, 1)\n",
        "            loss = criterion(outputs, labels)\n",
        "\n",
        "            loss.backward()\n",
        "            optimizer.step()\n",
        "\n",
        "            running_loss += loss.item() * inputs.size(0)\n",
        "            running_corrects += torch.sum(preds == labels.data)\n",
        "\n",
        "        epoch_loss = running_loss / dataset_sizes[phase]\n",
        "        epoch_acc = running_corrects.double() / dataset_sizes[phase]\n",
        "\n",
        "        print(f'{phase} Loss: {epoch_loss:.4f} Acc: {epoch_acc:.4f}')\n",
        "    \n",
        "    print()\n",
        "\n",
        "    time_elapsed = time.time() - since\n",
        "    print(f'Training complete in {time_elapsed // 60:.0f}m {time_elapsed % 60:.0f}s')\n",
        "\n",
        "    return model"
      ]
    },
    {
      "cell_type": "code",
      "execution_count": 11,
      "metadata": {
        "id": "Md4STKbYUD7g"
      },
      "outputs": [],
      "source": [
        "\n",
        "from sklearn.metrics._plot.confusion_matrix import ConfusionMatrixDisplay\n",
        "from sklearn.metrics import confusion_matrix, classification_report\n",
        "import numpy as np\n",
        "\n",
        "def test_model(model):\n",
        "    model.eval()\n",
        "    phase = 'Testing'\n",
        "\n",
        "    y_true = []\n",
        "    y_pred = []\n",
        "\n",
        "    for inputs, labels in tqdm(dataloaders['Testing']):\n",
        "        inputs = inputs.to(device)\n",
        "        labels = labels.to(device)\n",
        "\n",
        "        with torch.no_grad():\n",
        "            outputs = model(inputs)\n",
        "            prob, pred = torch.max(outputs, 1)\n",
        "            y_true.append(labels.cpu().numpy())\n",
        "            y_pred.append(pred.cpu().numpy())\n",
        "    y_true = np.array(y_true).flatten()\n",
        "    y_pred = np.array(y_pred).flatten()\n",
        "    print(\"Classification Report: \\n\", classification_report(y_true, y_pred))\n",
        "    plt.figure(figsize=(5,5))\n",
        "    ax = plt.subplot(1,1,1)\n",
        "    cm = confusion_matrix(y_true, y_pred)\n",
        "    disp = ConfusionMatrixDisplay(cm, display_labels=class_names)\n",
        "    disp.plot(ax=ax)\n",
        "    plt.show()\n",
        "    # TASK\n",
        "    # gunakan fungsi confusion_matrix(y_true, y_pred) untuk membantu kalian menghitung\n",
        "    # akurasi, presisi, recall, f1-score, sensitivity dan specificity"
      ]
    },
    {
      "cell_type": "markdown",
      "metadata": {
        "id": "IUap7Er0UD7h"
      },
      "source": [
        "# Create Model from Scratch"
      ]
    },
    {
      "cell_type": "markdown",
      "metadata": {
        "id": "Dg628xgoUD7i"
      },
      "source": [
        "Disini kita akan membangun model Image Classification dengan arsitektur VGG menggunakan Pytorch. Dibawah ini adalah tabel yang berisi arsitektur VGG16, yaitu spesifikasi layer-layer beserta dengan activation functionnya \n",
        "\n",
        "<img src=\"https://raw.githubusercontent.com/blurred-machine/Data-Science/master/Deep%20Learning%20SOTA/img/config2.jpg\" alt=\"drawing\" width=\"500\"/>"
      ]
    },
    {
      "cell_type": "markdown",
      "metadata": {
        "id": "vKD05NAZUD7i"
      },
      "source": [
        "# Building Blocks\n",
        "Sebelum kita membuat model, kita akan mempelajari bagian-bagian dari sebuah Image Classification model, seperti convolution layer, pooling layer, activation function, dropout, dan fully connected network.\n",
        "\n",
        "Pada tugas ini, kita akan membangun model menggunakan teknik sequential, sehingga setiap layer akan disusun sesuai urutan dia dimasukkan. setiap layer pada model akan dimasukkan kedalam Sequential()\n",
        "\n",
        "<a href='https://pytorch.org/docs/stable/generated/torch.nn.Sequential.html'>Dokumentasi Pytorch</a>"
      ]
    },
    {
      "cell_type": "code",
      "execution_count": null,
      "metadata": {
        "id": "UFGlncnZUD7j"
      },
      "outputs": [],
      "source": [
        "model = nn.Sequential()"
      ]
    },
    {
      "cell_type": "markdown",
      "metadata": {
        "id": "7O2jYC0gUD7k"
      },
      "source": [
        "Building block pertama yang perlu diperlajari adalah Convolution layer.\n",
        "\n",
        "`Conv2d(n_input_channel, n_output_channel, kernel_size=(K, K), stride=S, padding=P)`\n",
        "\n",
        "Contoh:\n",
        "\n",
        "`nn.Conv2d(3, 64, kernel_size=(3, 3), stride=1, padding=1)`\n",
        "\n",
        "berarti layer convolution diatas berekspektasi jumlah channel yang dia terima berjumlah 3, dan jumlah filter (kernel) / feature map / output channel yang dihasilkan ada 64, dengan ukuran tiap filter nya 3x3, dan dengan stride = 1 dan padding = 1"
      ]
    },
    {
      "cell_type": "code",
      "execution_count": null,
      "metadata": {
        "id": "GEQP9qjbUD7l"
      },
      "outputs": [],
      "source": [
        "model = nn.Sequential(\n",
        "        nn.Conv2d(3, 64, kernel_size=(3, 3), stride=1, padding=1)\n",
        "    )"
      ]
    },
    {
      "cell_type": "markdown",
      "metadata": {
        "id": "qq8WUusNUD7m"
      },
      "source": [
        "Untuk menambahkan activation function, dilakukan dengan cara menambahkan layer di model setelah convolution layer. Pada kasus ini, convolutional layer memiliki fungsi aktivasi ReLU"
      ]
    },
    {
      "cell_type": "code",
      "execution_count": null,
      "metadata": {
        "colab": {
          "background_save": true
        },
        "id": "N3zRWM7sUD7m"
      },
      "outputs": [],
      "source": [
        "model = nn.Sequential(\n",
        "        nn.Conv2d(3, 64, kernel_size=(3, 3), stride=1, padding=1),\n",
        "        nn.ReLU(inplace=True)\n",
        "    )"
      ]
    },
    {
      "cell_type": "markdown",
      "metadata": {
        "id": "-NOYvGbEUD7n"
      },
      "source": [
        "Layer selanjutnya yang perlu dipelajari adalah Pooling layer. Pada VGG, jenis pooling yang dipakai adalah MaxPooling\n",
        "\n",
        "`MaxPool2d(kernel_size=K, stride=S, padding=P)`\n",
        "\n",
        "Contoh:\n",
        "\n",
        "`MaxPool2d(kernel_size=2, stride=2, padding=0)`\n",
        "\n",
        "MaxPooling layer diatas akan memiliki ukuran kernel 2x2, dengan stride = 1, padding = 0. Sama dengan layer lainnya, MaxPooling layer akan dimasukkan kedalam sequential\n"
      ]
    },
    {
      "cell_type": "code",
      "execution_count": null,
      "metadata": {
        "id": "7a6IQjrLUD7n"
      },
      "outputs": [],
      "source": [
        "model = nn.Sequential(\n",
        "        nn.Conv2d(3, 64, kernel_size=(3, 3), stride=1, padding=1),\n",
        "        nn.ReLU(inplace=True),\n",
        "        nn.MaxPool2d(kernel_size=2, stride=2, padding=0),\n",
        "        nn.ReLU(inplace=True),\n",
        "    )"
      ]
    },
    {
      "cell_type": "markdown",
      "metadata": {
        "id": "xb9SVGHtUD7n"
      },
      "source": [
        "Setelah kita membuat struktur convolutional network, kita perlu menyiapkan supaya bisa diolah kedalam Fully Connected Network. Salah satu caranya adalah dengan menggunakan Flatten, yang mengubah tensor dimensi apapun menjadi 1 dimensi\n",
        "\n",
        "`nn.Flatten()`\n",
        "\n",
        "Dimensi dari output Flatten layer dihitung dari dimensi input (C, W, H) menjadi (C\\*W\\*H), dengan C = jumlah Channel, W = width, H = height. Contoh:\n",
        "\n",
        "dimensi input = 3, 48, 48\n",
        "\n",
        "dimensi ouput = 3\\*48\\*48 = 6912"
      ]
    },
    {
      "cell_type": "code",
      "execution_count": null,
      "metadata": {
        "id": "LBcvqTvOUD7o"
      },
      "outputs": [],
      "source": [
        "model = nn.Sequential(\n",
        "        nn.Conv2d(3, 64, kernel_size=(3, 3), stride=1, padding=1),\n",
        "        nn.ReLU(inplace=True),\n",
        "        nn.MaxPool2d(kernel_size=2, stride=2, padding=0),\n",
        "        nn.Flatten()\n",
        "    )"
      ]
    },
    {
      "cell_type": "markdown",
      "metadata": {
        "id": "6fq0ZJ-JUD7o"
      },
      "source": [
        "Setelah itu kita bisa menambahkan fully connected layer, yang tediri dari linear layer dengan activation function\n",
        "\n",
        "`nn.Linear(in_features, out_features)`\n",
        "\n",
        "in_features adalah dimensi dari input layer linear dan harus dihitung berdasarkan dimensi output dari layer sebelumnya. dimensi output sebuah layer akan berubah dari dimensi awal nya, berdasarkan ukuran kernel, strides dan padding. Untuk menetapkan activation pada linear layer, bisa dilakukan dengan menambahkan nn.ReLU atau nn.Sigmoid setelah linear layer nya."
      ]
    },
    {
      "cell_type": "code",
      "execution_count": null,
      "metadata": {
        "id": "IcsixUwFUD7o"
      },
      "outputs": [],
      "source": [
        "model = nn.Sequential(\n",
        "        nn.Conv2d(3, 64, kernel_size=(3, 3), stride=1, padding=1),\n",
        "        nn.ReLU(inplace=True),\n",
        "        nn.MaxPool2d(kernel_size=2, stride=2, padding=0),\n",
        "        nn.Flatten(),\n",
        "        nn.Linear(1024, 512), # misal 1024, 512\n",
        "        nn.ReLU(inplace=True),\n",
        "        nn.Linear(512, 2) # misal 512, 2\n",
        "    )\n"
      ]
    },
    {
      "cell_type": "markdown",
      "metadata": {
        "id": "W8rgJtQTUD7p"
      },
      "source": [
        "<img src='https://qph.fs.quoracdn.net/main-qimg-d4023fe66cac95238a76ea1b5bc21d84-pjlq'>"
      ]
    },
    {
      "cell_type": "markdown",
      "metadata": {
        "id": "QnosT8dhUD7p"
      },
      "source": [
        "Pada output layer, kita biasanya menetapkan activation function yang sesuai dengan loss function yang akan digunakan, jika menggunakan Sigmoid activation, kita akan menggunakan binary crossentropy sebagai loss function nya. dan jika menggunakan SoftMax activation, kita menggunakan categorical cross entropy sebagai loss function. namun pada case Pytorch, lebih baik tidak menetapkan activation function pada output layer model kita jika kita menggunakan categorical cross entropy. lebih lengkapnya bisa di google sendiri dan lihat disini : <a href='https://stackoverflow.com/questions/57516027/does-pytorch-apply-softmax-automatically-in-nn-linear'>https://stackoverflow.com/questions/57516027/does-pytorch-apply-softmax-automatically-in-nn-linear</a>"
      ]
    },
    {
      "cell_type": "markdown",
      "metadata": {
        "id": "I9ZHa2c4UD7q"
      },
      "source": [
        "## Build-a-model\n",
        "\n",
        "\\[TASK\\] Lengkapi tabel berikut\n",
        "\n",
        "\n",
        "| Input |    Layer    | Feature Map | Input Size | Kernel Size | Output Size | Stride | Padding | Activation |\n",
        "|:-----:|:-----------:|:-----------:|:----------:|:-----------:|:-----------:|:------:|:-------:|:----------:|\n",
        "|   1   | Convolution |      64     |   48x48x3  |     5x5     |   46x46x64  |    1   |    1    |    ReLU    |\n",
        "|   2   | Convolution |      64     |  46x46x64  |     3x3     |   44x44x64  |    1   |    0    |    ReLU    |\n",
        "|   3   |  MaxPooling |      64     |  44x44x64  |     2x2     |   22x22x64  |    2   |    0    |    -    |\n",
        "|   4   | Convolution |     128     |  22x22x64  |     5x5     |   20x20x128  |    1   |    1    |    ReLU    |\n",
        "|   5   | Convolution |     128     |  20x20x128  |     3x3     |   20x20x128  |    1   |    1    |    ReLU    |\n",
        "|   6   |  MaxPooling |     128     |  20x20x128  |     2x2     |   10x10x128  |    2   |    0    |    -    |\n",
        "|       |   Flatten   |      -      |  10x10x128  |      -      |   12800 |    -   |    -    |      -     |\n",
        "|   7   |      FC     |      -      |  12800  |      -      |     1024    |    -   |    -    |    Relu    |\n",
        "|   8   |      FC     |      -      |    1024    |      -      |      2      |    -   |    -    |   SoftMax  |\n",
        "\n",
        "\\[TASK\\] Buatlah sebuah model berdasarkan spesifikasi di tabel diatas"
      ]
    },
    {
      "cell_type": "code",
      "execution_count": null,
      "metadata": {
        "colab": {
          "base_uri": "https://localhost:8080/"
        },
        "id": "yrWBbmYjUD7q",
        "outputId": "887ee47d-2d12-42c6-89f2-24315beec2a0"
      },
      "outputs": [
        {
          "output_type": "stream",
          "name": "stdout",
          "text": [
            "----------------------------------------------------------------\n",
            "        Layer (type)               Output Shape         Param #\n",
            "================================================================\n",
            "            Conv2d-1           [-1, 64, 46, 46]           4,864\n",
            "              ReLU-2           [-1, 64, 46, 46]               0\n",
            "            Conv2d-3           [-1, 64, 44, 44]          36,928\n",
            "              ReLU-4           [-1, 64, 44, 44]               0\n",
            "         MaxPool2d-5           [-1, 64, 22, 22]               0\n",
            "            Conv2d-6          [-1, 128, 20, 20]         204,928\n",
            "              ReLU-7          [-1, 128, 20, 20]               0\n",
            "            Conv2d-8          [-1, 128, 20, 20]         147,584\n",
            "              ReLU-9          [-1, 128, 20, 20]               0\n",
            "        MaxPool2d-10          [-1, 128, 10, 10]               0\n",
            "          Flatten-11                [-1, 12800]               0\n",
            "           Linear-12                 [-1, 1024]      13,108,224\n",
            "             ReLU-13                 [-1, 1024]               0\n",
            "           Linear-14                    [-1, 2]           2,050\n",
            "================================================================\n",
            "Total params: 13,504,578\n",
            "Trainable params: 13,504,578\n",
            "Non-trainable params: 0\n",
            "----------------------------------------------------------------\n",
            "Input size (MB): 0.03\n",
            "Forward/backward pass size (MB): 5.97\n",
            "Params size (MB): 51.52\n",
            "Estimated Total Size (MB): 57.51\n",
            "----------------------------------------------------------------\n"
          ]
        }
      ],
      "source": [
        "# TASK\n",
        "model = nn.Sequential(\n",
        "            nn.Conv2d(3, 64, kernel_size=(5, 5), stride=1, padding=1), # 1 conv\n",
        "            nn.ReLU(inplace=True),  # 1 act\n",
        "            nn.Conv2d(64, 64, kernel_size=(3, 3), stride=1, padding=0), # 1 conv\n",
        "            nn.ReLU(inplace=True),  # 1 act\n",
        "            nn.MaxPool2d(2, stride=2), # Max pool\n",
        "\n",
        "            nn.Conv2d(64, 128, kernel_size=(5, 5), stride=1, padding=1), # 1 conv\n",
        "            nn.ReLU(inplace=True),  # 1 act\n",
        "            nn.Conv2d(128, 128, kernel_size=(3, 3), stride=1, padding=1), # 1 conv\n",
        "            nn.ReLU(inplace=True),  # 1 act\n",
        "            nn.MaxPool2d(2, stride=2), # Max pool\n",
        "            \n",
        "            nn.Flatten(),\n",
        "            nn.Linear(12800, 1024), # 7 fc\n",
        "            nn.ReLU(inplace=True), # 7 act\n",
        "            nn.Linear(1024, 2) # 8 fc\n",
        "            )\n",
        "\n",
        "from torchsummary import summary\n",
        "summary(model.cuda(), (3, 48, 48))"
      ]
    },
    {
      "cell_type": "code",
      "execution_count": null,
      "metadata": {
        "colab": {
          "base_uri": "https://localhost:8080/"
        },
        "id": "b7XMLMKnUD7r",
        "outputId": "854f655b-ff05-4512-dabf-d098d0b2a72a"
      },
      "outputs": [
        {
          "output_type": "stream",
          "name": "stdout",
          "text": [
            "Epoch 0/9\n",
            "----------\n"
          ]
        },
        {
          "output_type": "stream",
          "name": "stderr",
          "text": [
            "100%|██████████| 360/360 [00:07<00:00, 47.69it/s]\n"
          ]
        },
        {
          "output_type": "stream",
          "name": "stdout",
          "text": [
            "Training Loss: 0.6901 Acc: 0.5274\n",
            "Epoch 1/9\n",
            "----------\n"
          ]
        },
        {
          "output_type": "stream",
          "name": "stderr",
          "text": [
            "100%|██████████| 360/360 [00:07<00:00, 47.50it/s]\n"
          ]
        },
        {
          "output_type": "stream",
          "name": "stdout",
          "text": [
            "Training Loss: 0.6521 Acc: 0.6247\n",
            "Epoch 2/9\n",
            "----------\n"
          ]
        },
        {
          "output_type": "stream",
          "name": "stderr",
          "text": [
            "100%|██████████| 360/360 [00:07<00:00, 50.15it/s]\n"
          ]
        },
        {
          "output_type": "stream",
          "name": "stdout",
          "text": [
            "Training Loss: 0.5844 Acc: 0.7008\n",
            "Epoch 3/9\n",
            "----------\n"
          ]
        },
        {
          "output_type": "stream",
          "name": "stderr",
          "text": [
            "100%|██████████| 360/360 [00:07<00:00, 50.20it/s]\n"
          ]
        },
        {
          "output_type": "stream",
          "name": "stdout",
          "text": [
            "Training Loss: 0.4952 Acc: 0.7599\n",
            "Epoch 4/9\n",
            "----------\n"
          ]
        },
        {
          "output_type": "stream",
          "name": "stderr",
          "text": [
            "100%|██████████| 360/360 [00:07<00:00, 49.94it/s]\n"
          ]
        },
        {
          "output_type": "stream",
          "name": "stdout",
          "text": [
            "Training Loss: 0.3854 Acc: 0.8350\n",
            "Epoch 5/9\n",
            "----------\n"
          ]
        },
        {
          "output_type": "stream",
          "name": "stderr",
          "text": [
            "100%|██████████| 360/360 [00:07<00:00, 50.10it/s]\n"
          ]
        },
        {
          "output_type": "stream",
          "name": "stdout",
          "text": [
            "Training Loss: 0.3259 Acc: 0.8683\n",
            "Epoch 6/9\n",
            "----------\n"
          ]
        },
        {
          "output_type": "stream",
          "name": "stderr",
          "text": [
            "100%|██████████| 360/360 [00:07<00:00, 50.40it/s]\n"
          ]
        },
        {
          "output_type": "stream",
          "name": "stdout",
          "text": [
            "Training Loss: 0.2746 Acc: 0.8933\n",
            "Epoch 7/9\n",
            "----------\n"
          ]
        },
        {
          "output_type": "stream",
          "name": "stderr",
          "text": [
            "100%|██████████| 360/360 [00:07<00:00, 50.11it/s]\n"
          ]
        },
        {
          "output_type": "stream",
          "name": "stdout",
          "text": [
            "Training Loss: 0.2496 Acc: 0.9090\n",
            "Epoch 8/9\n",
            "----------\n"
          ]
        },
        {
          "output_type": "stream",
          "name": "stderr",
          "text": [
            "100%|██████████| 360/360 [00:07<00:00, 50.28it/s]\n"
          ]
        },
        {
          "output_type": "stream",
          "name": "stdout",
          "text": [
            "Training Loss: 0.2268 Acc: 0.9173\n",
            "Epoch 9/9\n",
            "----------\n"
          ]
        },
        {
          "output_type": "stream",
          "name": "stderr",
          "text": [
            "100%|██████████| 360/360 [00:07<00:00, 50.38it/s]"
          ]
        },
        {
          "output_type": "stream",
          "name": "stdout",
          "text": [
            "Training Loss: 0.2123 Acc: 0.9281\n",
            "\n",
            "Training complete in 1m 13s\n"
          ]
        },
        {
          "output_type": "stream",
          "name": "stderr",
          "text": [
            "\n"
          ]
        }
      ],
      "source": [
        "# uji coba performa model\n",
        "\n",
        "model.to(device)\n",
        "criterion = nn.CrossEntropyLoss()\n",
        "optimizer = optim.SGD(model.parameters(), lr=0.01)\n",
        "\n",
        "model = train_model(model, criterion, optimizer, num_epochs=10)"
      ]
    },
    {
      "cell_type": "code",
      "execution_count": null,
      "metadata": {
        "id": "VDlIhmDkUD7r",
        "colab": {
          "base_uri": "https://localhost:8080/",
          "height": 504
        },
        "outputId": "0753b2ca-32bd-4cdb-a6d9-ec6f9a5c789a"
      },
      "outputs": [
        {
          "output_type": "stream",
          "name": "stderr",
          "text": [
            "100%|██████████| 40/40 [00:00<00:00, 53.51it/s]\n"
          ]
        },
        {
          "output_type": "stream",
          "name": "stdout",
          "text": [
            "Classification Report: \n",
            "               precision    recall  f1-score   support\n",
            "\n",
            "           0       0.94      0.97      0.96       152\n",
            "           1       0.98      0.95      0.96       168\n",
            "\n",
            "    accuracy                           0.96       320\n",
            "   macro avg       0.96      0.96      0.96       320\n",
            "weighted avg       0.96      0.96      0.96       320\n",
            "\n"
          ]
        },
        {
          "output_type": "display_data",
          "data": {
            "text/plain": [
              "<Figure size 360x360 with 2 Axes>"
            ],
            "image/png": "[encoded data removed]"
          },
          "metadata": {
            "needs_background": "light"
          }
        }
      ],
      "source": [
        "test_model(model)"
      ]
    },
    {
      "cell_type": "markdown",
      "metadata": {
        "id": "dy5dxw6FUD7s"
      },
      "source": [
        "# Using Pretrained Model\n",
        "\n",
        "Salah satu kelebihan machine learning adalah kemampuan untuk 'mendaur ulang' model yang sudah dilatih untuk melakukan task lain. Saya sarankan agar mempelajari dulu mengenai Transfer Learning di youtube atau tempat lainnya\n",
        "\n",
        "Secara sederhana, Transfer Learning adalah sebuah teknik untuk membuat modifikasi pada model yang sudah dilatih agar model itu bisa melakukan task lain.\n",
        "\n",
        "Sebagian besar model yang tersedia dilatih pada ImageNet dataset, untuk melakukan klasifikasi pada 1000 kelas pada 14 juta gambar. Kita akan memodifikasi model itu untuk melakukan Gender Prediction dari dataset gambar wajah kita."
      ]
    },
    {
      "cell_type": "code",
      "execution_count": 12,
      "metadata": {
        "id": "92ODnDNeUD7s"
      },
      "outputs": [],
      "source": [
        "vgg16 = models.vgg16() "
      ]
    },
    {
      "cell_type": "markdown",
      "metadata": {
        "id": "W-cZE-reUD7s"
      },
      "source": [
        "model bisa diprint untuk melihat arsitektur nya"
      ]
    },
    {
      "cell_type": "code",
      "execution_count": 14,
      "metadata": {
        "id": "z18mKpEVUD7s",
        "colab": {
          "base_uri": "https://localhost:8080/"
        },
        "outputId": "86271393-5303-4abd-a849-3795789864e4"
      },
      "outputs": [
        {
          "output_type": "stream",
          "name": "stdout",
          "text": [
            "VGG(\n",
            "  (features): Sequential(\n",
            "    (0): Conv2d(3, 64, kernel_size=(3, 3), stride=(1, 1), padding=(1, 1))\n",
            "    (1): ReLU(inplace=True)\n",
            "    (2): Conv2d(64, 64, kernel_size=(3, 3), stride=(1, 1), padding=(1, 1))\n",
            "    (3): ReLU(inplace=True)\n",
            "    (4): MaxPool2d(kernel_size=2, stride=2, padding=0, dilation=1, ceil_mode=False)\n",
            "    (5): Conv2d(64, 128, kernel_size=(3, 3), stride=(1, 1), padding=(1, 1))\n",
            "    (6): ReLU(inplace=True)\n",
            "    (7): Conv2d(128, 128, kernel_size=(3, 3), stride=(1, 1), padding=(1, 1))\n",
            "    (8): ReLU(inplace=True)\n",
            "    (9): MaxPool2d(kernel_size=2, stride=2, padding=0, dilation=1, ceil_mode=False)\n",
            "    (10): Conv2d(128, 256, kernel_size=(3, 3), stride=(1, 1), padding=(1, 1))\n",
            "    (11): ReLU(inplace=True)\n",
            "    (12): Conv2d(256, 256, kernel_size=(3, 3), stride=(1, 1), padding=(1, 1))\n",
            "    (13): ReLU(inplace=True)\n",
            "    (14): Conv2d(256, 256, kernel_size=(3, 3), stride=(1, 1), padding=(1, 1))\n",
            "    (15): ReLU(inplace=True)\n",
            "    (16): MaxPool2d(kernel_size=2, stride=2, padding=0, dilation=1, ceil_mode=False)\n",
            "    (17): Conv2d(256, 512, kernel_size=(3, 3), stride=(1, 1), padding=(1, 1))\n",
            "    (18): ReLU(inplace=True)\n",
            "    (19): Conv2d(512, 512, kernel_size=(3, 3), stride=(1, 1), padding=(1, 1))\n",
            "    (20): ReLU(inplace=True)\n",
            "    (21): Conv2d(512, 512, kernel_size=(3, 3), stride=(1, 1), padding=(1, 1))\n",
            "    (22): ReLU(inplace=True)\n",
            "    (23): MaxPool2d(kernel_size=2, stride=2, padding=0, dilation=1, ceil_mode=False)\n",
            "    (24): Conv2d(512, 512, kernel_size=(3, 3), stride=(1, 1), padding=(1, 1))\n",
            "    (25): ReLU(inplace=True)\n",
            "    (26): Conv2d(512, 512, kernel_size=(3, 3), stride=(1, 1), padding=(1, 1))\n",
            "    (27): ReLU(inplace=True)\n",
            "    (28): Conv2d(512, 512, kernel_size=(3, 3), stride=(1, 1), padding=(1, 1))\n",
            "    (29): ReLU(inplace=True)\n",
            "    (30): MaxPool2d(kernel_size=2, stride=2, padding=0, dilation=1, ceil_mode=False)\n",
            "  )\n",
            "  (avgpool): AdaptiveAvgPool2d(output_size=(7, 7))\n",
            "  (classifier): Sequential(\n",
            "    (0): Linear(in_features=25088, out_features=4096, bias=True)\n",
            "    (1): ReLU(inplace=True)\n",
            "    (2): Dropout(p=0.5, inplace=False)\n",
            "    (3): Linear(in_features=4096, out_features=4096, bias=True)\n",
            "    (4): ReLU(inplace=True)\n",
            "    (5): Dropout(p=0.5, inplace=False)\n",
            "    (6): Linear(in_features=4096, out_features=1000, bias=True)\n",
            "  )\n",
            ")\n",
            "----------------------------------------------------------------\n",
            "        Layer (type)               Output Shape         Param #\n",
            "================================================================\n",
            "            Conv2d-1           [-1, 64, 48, 48]           1,792\n",
            "              ReLU-2           [-1, 64, 48, 48]               0\n",
            "            Conv2d-3           [-1, 64, 48, 48]          36,928\n",
            "              ReLU-4           [-1, 64, 48, 48]               0\n",
            "         MaxPool2d-5           [-1, 64, 24, 24]               0\n",
            "            Conv2d-6          [-1, 128, 24, 24]          73,856\n",
            "              ReLU-7          [-1, 128, 24, 24]               0\n",
            "            Conv2d-8          [-1, 128, 24, 24]         147,584\n",
            "              ReLU-9          [-1, 128, 24, 24]               0\n",
            "        MaxPool2d-10          [-1, 128, 12, 12]               0\n",
            "           Conv2d-11          [-1, 256, 12, 12]         295,168\n",
            "             ReLU-12          [-1, 256, 12, 12]               0\n",
            "           Conv2d-13          [-1, 256, 12, 12]         590,080\n",
            "             ReLU-14          [-1, 256, 12, 12]               0\n",
            "           Conv2d-15          [-1, 256, 12, 12]         590,080\n",
            "             ReLU-16          [-1, 256, 12, 12]               0\n",
            "        MaxPool2d-17            [-1, 256, 6, 6]               0\n",
            "           Conv2d-18            [-1, 512, 6, 6]       1,180,160\n",
            "             ReLU-19            [-1, 512, 6, 6]               0\n",
            "           Conv2d-20            [-1, 512, 6, 6]       2,359,808\n",
            "             ReLU-21            [-1, 512, 6, 6]               0\n",
            "           Conv2d-22            [-1, 512, 6, 6]       2,359,808\n",
            "             ReLU-23            [-1, 512, 6, 6]               0\n",
            "        MaxPool2d-24            [-1, 512, 3, 3]               0\n",
            "           Conv2d-25            [-1, 512, 3, 3]       2,359,808\n",
            "             ReLU-26            [-1, 512, 3, 3]               0\n",
            "           Conv2d-27            [-1, 512, 3, 3]       2,359,808\n",
            "             ReLU-28            [-1, 512, 3, 3]               0\n",
            "           Conv2d-29            [-1, 512, 3, 3]       2,359,808\n",
            "             ReLU-30            [-1, 512, 3, 3]               0\n",
            "        MaxPool2d-31            [-1, 512, 1, 1]               0\n",
            "AdaptiveAvgPool2d-32            [-1, 512, 7, 7]               0\n",
            "           Linear-33                 [-1, 4096]     102,764,544\n",
            "             ReLU-34                 [-1, 4096]               0\n",
            "          Dropout-35                 [-1, 4096]               0\n",
            "           Linear-36                 [-1, 4096]      16,781,312\n",
            "             ReLU-37                 [-1, 4096]               0\n",
            "          Dropout-38                 [-1, 4096]               0\n",
            "           Linear-39                 [-1, 1000]       4,097,000\n",
            "================================================================\n",
            "Total params: 138,357,544\n",
            "Trainable params: 138,357,544\n",
            "Non-trainable params: 0\n",
            "----------------------------------------------------------------\n",
            "Input size (MB): 0.03\n",
            "Forward/backward pass size (MB): 10.41\n",
            "Params size (MB): 527.79\n",
            "Estimated Total Size (MB): 538.23\n",
            "----------------------------------------------------------------\n"
          ]
        }
      ],
      "source": [
        "print(vgg16)\n",
        "from torchsummary import summary\n",
        "summary(vgg16.cuda(), (3, 48, 48))"
      ]
    },
    {
      "cell_type": "markdown",
      "metadata": {
        "id": "Qt_2TD6aUD7t"
      },
      "source": [
        "kita akan mengganti block classifier supaya model ini memprediksi gender"
      ]
    },
    {
      "cell_type": "code",
      "execution_count": 15,
      "metadata": {
        "id": "2BGcqkLGUD7t"
      },
      "outputs": [],
      "source": [
        "vgg16.classifier = nn.Sequential(\n",
        "        nn.Linear(in_features=25088, out_features=4096, bias=True),\n",
        "        nn.ReLU(inplace=True),\n",
        "        nn.Dropout(p=0.5, inplace=False),\n",
        "        nn.Linear(in_features=4096, out_features=512, bias=True),\n",
        "        nn.ReLU(inplace=True),\n",
        "        nn.Linear(in_features=512, out_features=2, bias=True),\n",
        "    )\n"
      ]
    },
    {
      "cell_type": "code",
      "source": [
        "print(vgg16)\n",
        "summary(vgg16.cuda(), (3, 48, 48))"
      ],
      "metadata": {
        "id": "5ub9hYAnsZRQ",
        "colab": {
          "base_uri": "https://localhost:8080/"
        },
        "outputId": "a0990f30-b53a-4b89-9a1e-fde23929b216"
      },
      "execution_count": 16,
      "outputs": [
        {
          "output_type": "stream",
          "name": "stdout",
          "text": [
            "VGG(\n",
            "  (features): Sequential(\n",
            "    (0): Conv2d(3, 64, kernel_size=(3, 3), stride=(1, 1), padding=(1, 1))\n",
            "    (1): ReLU(inplace=True)\n",
            "    (2): Conv2d(64, 64, kernel_size=(3, 3), stride=(1, 1), padding=(1, 1))\n",
            "    (3): ReLU(inplace=True)\n",
            "    (4): MaxPool2d(kernel_size=2, stride=2, padding=0, dilation=1, ceil_mode=False)\n",
            "    (5): Conv2d(64, 128, kernel_size=(3, 3), stride=(1, 1), padding=(1, 1))\n",
            "    (6): ReLU(inplace=True)\n",
            "    (7): Conv2d(128, 128, kernel_size=(3, 3), stride=(1, 1), padding=(1, 1))\n",
            "    (8): ReLU(inplace=True)\n",
            "    (9): MaxPool2d(kernel_size=2, stride=2, padding=0, dilation=1, ceil_mode=False)\n",
            "    (10): Conv2d(128, 256, kernel_size=(3, 3), stride=(1, 1), padding=(1, 1))\n",
            "    (11): ReLU(inplace=True)\n",
            "    (12): Conv2d(256, 256, kernel_size=(3, 3), stride=(1, 1), padding=(1, 1))\n",
            "    (13): ReLU(inplace=True)\n",
            "    (14): Conv2d(256, 256, kernel_size=(3, 3), stride=(1, 1), padding=(1, 1))\n",
            "    (15): ReLU(inplace=True)\n",
            "    (16): MaxPool2d(kernel_size=2, stride=2, padding=0, dilation=1, ceil_mode=False)\n",
            "    (17): Conv2d(256, 512, kernel_size=(3, 3), stride=(1, 1), padding=(1, 1))\n",
            "    (18): ReLU(inplace=True)\n",
            "    (19): Conv2d(512, 512, kernel_size=(3, 3), stride=(1, 1), padding=(1, 1))\n",
            "    (20): ReLU(inplace=True)\n",
            "    (21): Conv2d(512, 512, kernel_size=(3, 3), stride=(1, 1), padding=(1, 1))\n",
            "    (22): ReLU(inplace=True)\n",
            "    (23): MaxPool2d(kernel_size=2, stride=2, padding=0, dilation=1, ceil_mode=False)\n",
            "    (24): Conv2d(512, 512, kernel_size=(3, 3), stride=(1, 1), padding=(1, 1))\n",
            "    (25): ReLU(inplace=True)\n",
            "    (26): Conv2d(512, 512, kernel_size=(3, 3), stride=(1, 1), padding=(1, 1))\n",
            "    (27): ReLU(inplace=True)\n",
            "    (28): Conv2d(512, 512, kernel_size=(3, 3), stride=(1, 1), padding=(1, 1))\n",
            "    (29): ReLU(inplace=True)\n",
            "    (30): MaxPool2d(kernel_size=2, stride=2, padding=0, dilation=1, ceil_mode=False)\n",
            "  )\n",
            "  (avgpool): AdaptiveAvgPool2d(output_size=(7, 7))\n",
            "  (classifier): Sequential(\n",
            "    (0): Linear(in_features=25088, out_features=4096, bias=True)\n",
            "    (1): ReLU(inplace=True)\n",
            "    (2): Dropout(p=0.5, inplace=False)\n",
            "    (3): Linear(in_features=4096, out_features=512, bias=True)\n",
            "    (4): ReLU(inplace=True)\n",
            "    (5): Linear(in_features=512, out_features=2, bias=True)\n",
            "  )\n",
            ")\n",
            "----------------------------------------------------------------\n",
            "        Layer (type)               Output Shape         Param #\n",
            "================================================================\n",
            "            Conv2d-1           [-1, 64, 48, 48]           1,792\n",
            "              ReLU-2           [-1, 64, 48, 48]               0\n",
            "            Conv2d-3           [-1, 64, 48, 48]          36,928\n",
            "              ReLU-4           [-1, 64, 48, 48]               0\n",
            "         MaxPool2d-5           [-1, 64, 24, 24]               0\n",
            "            Conv2d-6          [-1, 128, 24, 24]          73,856\n",
            "              ReLU-7          [-1, 128, 24, 24]               0\n",
            "            Conv2d-8          [-1, 128, 24, 24]         147,584\n",
            "              ReLU-9          [-1, 128, 24, 24]               0\n",
            "        MaxPool2d-10          [-1, 128, 12, 12]               0\n",
            "           Conv2d-11          [-1, 256, 12, 12]         295,168\n",
            "             ReLU-12          [-1, 256, 12, 12]               0\n",
            "           Conv2d-13          [-1, 256, 12, 12]         590,080\n",
            "             ReLU-14          [-1, 256, 12, 12]               0\n",
            "           Conv2d-15          [-1, 256, 12, 12]         590,080\n",
            "             ReLU-16          [-1, 256, 12, 12]               0\n",
            "        MaxPool2d-17            [-1, 256, 6, 6]               0\n",
            "           Conv2d-18            [-1, 512, 6, 6]       1,180,160\n",
            "             ReLU-19            [-1, 512, 6, 6]               0\n",
            "           Conv2d-20            [-1, 512, 6, 6]       2,359,808\n",
            "             ReLU-21            [-1, 512, 6, 6]               0\n",
            "           Conv2d-22            [-1, 512, 6, 6]       2,359,808\n",
            "             ReLU-23            [-1, 512, 6, 6]               0\n",
            "        MaxPool2d-24            [-1, 512, 3, 3]               0\n",
            "           Conv2d-25            [-1, 512, 3, 3]       2,359,808\n",
            "             ReLU-26            [-1, 512, 3, 3]               0\n",
            "           Conv2d-27            [-1, 512, 3, 3]       2,359,808\n",
            "             ReLU-28            [-1, 512, 3, 3]               0\n",
            "           Conv2d-29            [-1, 512, 3, 3]       2,359,808\n",
            "             ReLU-30            [-1, 512, 3, 3]               0\n",
            "        MaxPool2d-31            [-1, 512, 1, 1]               0\n",
            "AdaptiveAvgPool2d-32            [-1, 512, 7, 7]               0\n",
            "           Linear-33                 [-1, 4096]     102,764,544\n",
            "             ReLU-34                 [-1, 4096]               0\n",
            "          Dropout-35                 [-1, 4096]               0\n",
            "           Linear-36                  [-1, 512]       2,097,664\n",
            "             ReLU-37                  [-1, 512]               0\n",
            "           Linear-38                    [-1, 2]           1,026\n",
            "================================================================\n",
            "Total params: 119,577,922\n",
            "Trainable params: 119,577,922\n",
            "Non-trainable params: 0\n",
            "----------------------------------------------------------------\n",
            "Input size (MB): 0.03\n",
            "Forward/backward pass size (MB): 10.32\n",
            "Params size (MB): 456.15\n",
            "Estimated Total Size (MB): 466.50\n",
            "----------------------------------------------------------------\n"
          ]
        }
      ]
    },
    {
      "cell_type": "code",
      "execution_count": 17,
      "metadata": {
        "id": "h1dW2uhUUD7t",
        "colab": {
          "base_uri": "https://localhost:8080/"
        },
        "outputId": "936ecddc-6f9e-4010-8738-1079d23e1255"
      },
      "outputs": [
        {
          "output_type": "stream",
          "name": "stdout",
          "text": [
            "Epoch 0/9\n",
            "----------\n"
          ]
        },
        {
          "output_type": "stream",
          "name": "stderr",
          "text": [
            "100%|██████████| 137/137 [02:13<00:00,  1.02it/s]\n"
          ]
        },
        {
          "output_type": "stream",
          "name": "stdout",
          "text": [
            "Training Loss: 0.6929 Acc: 0.5119\n",
            "Epoch 1/9\n",
            "----------\n"
          ]
        },
        {
          "output_type": "stream",
          "name": "stderr",
          "text": [
            "100%|██████████| 137/137 [00:10<00:00, 12.55it/s]\n"
          ]
        },
        {
          "output_type": "stream",
          "name": "stdout",
          "text": [
            "Training Loss: 0.6923 Acc: 0.5220\n",
            "Epoch 2/9\n",
            "----------\n"
          ]
        },
        {
          "output_type": "stream",
          "name": "stderr",
          "text": [
            "100%|██████████| 137/137 [00:10<00:00, 12.64it/s]\n"
          ]
        },
        {
          "output_type": "stream",
          "name": "stdout",
          "text": [
            "Training Loss: 0.6917 Acc: 0.5183\n",
            "Epoch 3/9\n",
            "----------\n"
          ]
        },
        {
          "output_type": "stream",
          "name": "stderr",
          "text": [
            "100%|██████████| 137/137 [00:10<00:00, 12.59it/s]\n"
          ]
        },
        {
          "output_type": "stream",
          "name": "stdout",
          "text": [
            "Training Loss: 0.6903 Acc: 0.5238\n",
            "Epoch 4/9\n",
            "----------\n"
          ]
        },
        {
          "output_type": "stream",
          "name": "stderr",
          "text": [
            "100%|██████████| 137/137 [00:10<00:00, 12.66it/s]\n"
          ]
        },
        {
          "output_type": "stream",
          "name": "stdout",
          "text": [
            "Training Loss: 0.6849 Acc: 0.5778\n",
            "Epoch 5/9\n",
            "----------\n"
          ]
        },
        {
          "output_type": "stream",
          "name": "stderr",
          "text": [
            "100%|██████████| 137/137 [00:10<00:00, 12.49it/s]\n"
          ]
        },
        {
          "output_type": "stream",
          "name": "stdout",
          "text": [
            "Training Loss: 0.6630 Acc: 0.6227\n",
            "Epoch 6/9\n",
            "----------\n"
          ]
        },
        {
          "output_type": "stream",
          "name": "stderr",
          "text": [
            "100%|██████████| 137/137 [00:10<00:00, 12.65it/s]\n"
          ]
        },
        {
          "output_type": "stream",
          "name": "stdout",
          "text": [
            "Training Loss: 0.6456 Acc: 0.6429\n",
            "Epoch 7/9\n",
            "----------\n"
          ]
        },
        {
          "output_type": "stream",
          "name": "stderr",
          "text": [
            "100%|██████████| 137/137 [00:10<00:00, 12.51it/s]\n"
          ]
        },
        {
          "output_type": "stream",
          "name": "stdout",
          "text": [
            "Training Loss: 0.6202 Acc: 0.6621\n",
            "Epoch 8/9\n",
            "----------\n"
          ]
        },
        {
          "output_type": "stream",
          "name": "stderr",
          "text": [
            "100%|██████████| 137/137 [00:10<00:00, 12.59it/s]\n"
          ]
        },
        {
          "output_type": "stream",
          "name": "stdout",
          "text": [
            "Training Loss: 0.5841 Acc: 0.7015\n",
            "Epoch 9/9\n",
            "----------\n"
          ]
        },
        {
          "output_type": "stream",
          "name": "stderr",
          "text": [
            "100%|██████████| 137/137 [00:10<00:00, 12.53it/s]"
          ]
        },
        {
          "output_type": "stream",
          "name": "stdout",
          "text": [
            "Training Loss: 0.5055 Acc: 0.7756\n",
            "\n",
            "Training complete in 3m 52s\n"
          ]
        },
        {
          "output_type": "stream",
          "name": "stderr",
          "text": [
            "\n"
          ]
        }
      ],
      "source": [
        "vgg16.to(device)\n",
        "criterion = nn.CrossEntropyLoss()\n",
        "optimizer = optim.SGD(vgg16.parameters(), lr=0.01)\n",
        "\n",
        "vgg16 = train_model(vgg16, criterion, optimizer, num_epochs=10)"
      ]
    },
    {
      "cell_type": "code",
      "execution_count": 18,
      "metadata": {
        "id": "7f-HgtzaUD7t",
        "colab": {
          "base_uri": "https://localhost:8080/",
          "height": 505
        },
        "outputId": "dd6017b7-2340-4cf8-d8fb-fdb80523c8fc"
      },
      "outputs": [
        {
          "output_type": "stream",
          "name": "stderr",
          "text": [
            "100%|██████████| 40/40 [01:12<00:00,  1.82s/it]\n"
          ]
        },
        {
          "output_type": "stream",
          "name": "stdout",
          "text": [
            "Classification Report: \n",
            "               precision    recall  f1-score   support\n",
            "\n",
            "           0       0.93      0.78      0.85       152\n",
            "           1       0.82      0.95      0.88       168\n",
            "\n",
            "    accuracy                           0.87       320\n",
            "   macro avg       0.88      0.86      0.86       320\n",
            "weighted avg       0.87      0.87      0.86       320\n",
            "\n"
          ]
        },
        {
          "output_type": "display_data",
          "data": {
            "text/plain": [
              "<Figure size 360x360 with 2 Axes>"
            ],
            "image/png": "[encoded data removed]"
          },
          "metadata": {
            "needs_background": "light"
          }
        }
      ],
      "source": [
        "test_model(vgg16)"
      ]
    },
    {
      "cell_type": "markdown",
      "metadata": {
        "id": "2OYjZjvxUD7u"
      },
      "source": [
        "Ada banyak model lain yang lebih baik dan lebih cepat, silahkan dicoba sendiri\n",
        "\n",
        "`import torchvision.models as models`\n",
        "\n",
        "`resnet18 = models.resnet18()`\n",
        "\n",
        "`alexnet = models.alexnet()`\n",
        "\n",
        "`vgg16 = models.vgg16()`\n",
        "\n",
        "`squeezenet = models.squeezenet1_0()`\n",
        "\n",
        "`densenet = models.densenet161()`\n"
      ]
    },
    {
      "cell_type": "code",
      "execution_count": 19,
      "metadata": {
        "id": "HbKsEKtYUD7u",
        "colab": {
          "base_uri": "https://localhost:8080/"
        },
        "outputId": "075073d1-c824-4b19-8ad8-1737f17fa7a0"
      },
      "outputs": [
        {
          "output_type": "stream",
          "name": "stdout",
          "text": [
            "VGG(\n",
            "  (features): Sequential(\n",
            "    (0): Conv2d(3, 64, kernel_size=(3, 3), stride=(1, 1), padding=(1, 1))\n",
            "    (1): ReLU(inplace=True)\n",
            "    (2): Conv2d(64, 64, kernel_size=(3, 3), stride=(1, 1), padding=(1, 1))\n",
            "    (3): ReLU(inplace=True)\n",
            "    (4): MaxPool2d(kernel_size=2, stride=2, padding=0, dilation=1, ceil_mode=False)\n",
            "    (5): Conv2d(64, 128, kernel_size=(3, 3), stride=(1, 1), padding=(1, 1))\n",
            "    (6): ReLU(inplace=True)\n",
            "    (7): Conv2d(128, 128, kernel_size=(3, 3), stride=(1, 1), padding=(1, 1))\n",
            "    (8): ReLU(inplace=True)\n",
            "    (9): MaxPool2d(kernel_size=2, stride=2, padding=0, dilation=1, ceil_mode=False)\n",
            "    (10): Conv2d(128, 256, kernel_size=(3, 3), stride=(1, 1), padding=(1, 1))\n",
            "    (11): ReLU(inplace=True)\n",
            "    (12): Conv2d(256, 256, kernel_size=(3, 3), stride=(1, 1), padding=(1, 1))\n",
            "    (13): ReLU(inplace=True)\n",
            "    (14): Conv2d(256, 256, kernel_size=(3, 3), stride=(1, 1), padding=(1, 1))\n",
            "    (15): ReLU(inplace=True)\n",
            "    (16): MaxPool2d(kernel_size=2, stride=2, padding=0, dilation=1, ceil_mode=False)\n",
            "    (17): Conv2d(256, 512, kernel_size=(3, 3), stride=(1, 1), padding=(1, 1))\n",
            "    (18): ReLU(inplace=True)\n",
            "    (19): Conv2d(512, 512, kernel_size=(3, 3), stride=(1, 1), padding=(1, 1))\n",
            "    (20): ReLU(inplace=True)\n",
            "    (21): Conv2d(512, 512, kernel_size=(3, 3), stride=(1, 1), padding=(1, 1))\n",
            "    (22): ReLU(inplace=True)\n",
            "    (23): MaxPool2d(kernel_size=2, stride=2, padding=0, dilation=1, ceil_mode=False)\n",
            "    (24): Conv2d(512, 512, kernel_size=(3, 3), stride=(1, 1), padding=(1, 1))\n",
            "    (25): ReLU(inplace=True)\n",
            "    (26): Conv2d(512, 512, kernel_size=(3, 3), stride=(1, 1), padding=(1, 1))\n",
            "    (27): ReLU(inplace=True)\n",
            "    (28): Conv2d(512, 512, kernel_size=(3, 3), stride=(1, 1), padding=(1, 1))\n",
            "    (29): ReLU(inplace=True)\n",
            "    (30): MaxPool2d(kernel_size=2, stride=2, padding=0, dilation=1, ceil_mode=False)\n",
            "  )\n",
            "  (avgpool): AdaptiveAvgPool2d(output_size=(7, 7))\n",
            "  (classifier): Sequential(\n",
            "    (0): Linear(in_features=25088, out_features=4096, bias=True)\n",
            "    (1): ReLU(inplace=True)\n",
            "    (2): Dropout(p=0.5, inplace=False)\n",
            "    (3): Linear(in_features=4096, out_features=512, bias=True)\n",
            "    (4): ReLU(inplace=True)\n",
            "    (5): Linear(in_features=512, out_features=1, bias=True)\n",
            "  )\n",
            ")\n",
            "----------------------------------------------------------------\n",
            "        Layer (type)               Output Shape         Param #\n",
            "================================================================\n",
            "            Conv2d-1           [-1, 64, 48, 48]           1,792\n",
            "              ReLU-2           [-1, 64, 48, 48]               0\n",
            "            Conv2d-3           [-1, 64, 48, 48]          36,928\n",
            "              ReLU-4           [-1, 64, 48, 48]               0\n",
            "         MaxPool2d-5           [-1, 64, 24, 24]               0\n",
            "            Conv2d-6          [-1, 128, 24, 24]          73,856\n",
            "              ReLU-7          [-1, 128, 24, 24]               0\n",
            "            Conv2d-8          [-1, 128, 24, 24]         147,584\n",
            "              ReLU-9          [-1, 128, 24, 24]               0\n",
            "        MaxPool2d-10          [-1, 128, 12, 12]               0\n",
            "           Conv2d-11          [-1, 256, 12, 12]         295,168\n",
            "             ReLU-12          [-1, 256, 12, 12]               0\n",
            "           Conv2d-13          [-1, 256, 12, 12]         590,080\n",
            "             ReLU-14          [-1, 256, 12, 12]               0\n",
            "           Conv2d-15          [-1, 256, 12, 12]         590,080\n",
            "             ReLU-16          [-1, 256, 12, 12]               0\n",
            "        MaxPool2d-17            [-1, 256, 6, 6]               0\n",
            "           Conv2d-18            [-1, 512, 6, 6]       1,180,160\n",
            "             ReLU-19            [-1, 512, 6, 6]               0\n",
            "           Conv2d-20            [-1, 512, 6, 6]       2,359,808\n",
            "             ReLU-21            [-1, 512, 6, 6]               0\n",
            "           Conv2d-22            [-1, 512, 6, 6]       2,359,808\n",
            "             ReLU-23            [-1, 512, 6, 6]               0\n",
            "        MaxPool2d-24            [-1, 512, 3, 3]               0\n",
            "           Conv2d-25            [-1, 512, 3, 3]       2,359,808\n",
            "             ReLU-26            [-1, 512, 3, 3]               0\n",
            "           Conv2d-27            [-1, 512, 3, 3]       2,359,808\n",
            "             ReLU-28            [-1, 512, 3, 3]               0\n",
            "           Conv2d-29            [-1, 512, 3, 3]       2,359,808\n",
            "             ReLU-30            [-1, 512, 3, 3]               0\n",
            "        MaxPool2d-31            [-1, 512, 1, 1]               0\n",
            "AdaptiveAvgPool2d-32            [-1, 512, 7, 7]               0\n",
            "           Linear-33                 [-1, 4096]     102,764,544\n",
            "             ReLU-34                 [-1, 4096]               0\n",
            "          Dropout-35                 [-1, 4096]               0\n",
            "           Linear-36                  [-1, 512]       2,097,664\n",
            "             ReLU-37                  [-1, 512]               0\n",
            "           Linear-38                    [-1, 1]             513\n",
            "================================================================\n",
            "Total params: 119,577,409\n",
            "Trainable params: 119,577,409\n",
            "Non-trainable params: 0\n",
            "----------------------------------------------------------------\n",
            "Input size (MB): 0.03\n",
            "Forward/backward pass size (MB): 10.32\n",
            "Params size (MB): 456.15\n",
            "Estimated Total Size (MB): 466.49\n",
            "----------------------------------------------------------------\n"
          ]
        }
      ],
      "source": [
        "# TASK \n",
        "\n",
        "# create a Sequential that has the final layer's output size of 1 neuron and followed by Sigmoid activation function, \n",
        "# and assign it as vgg16 classifier\n",
        "\n",
        "from torchsummary import summary\n",
        "\n",
        "new_classifier = nn.Sequential(\n",
        "        nn.Linear(in_features=25088, out_features=4096, bias=True),\n",
        "        nn.ReLU(inplace=True),\n",
        "        nn.Dropout(p=0.5, inplace=False),\n",
        "        nn.Linear(in_features=4096, out_features=512, bias=True),\n",
        "        nn.ReLU(inplace=True),\n",
        "        nn.Linear(in_features=512, out_features=1, bias=True),\n",
        "    )\n",
        "vgg16sigmoid = models.vgg16()\n",
        "\n",
        "vgg16sigmoid.classifier = new_classifier\n",
        "vgg16sigmoid.to(device)\n",
        "\n",
        "print(vgg16sigmoid)\n",
        "summary(vgg16sigmoid.cuda(), (3, 48, 48))"
      ]
    },
    {
      "cell_type": "code",
      "source": [
        ""
      ],
      "metadata": {
        "id": "9s8RXBdIsnwF"
      },
      "execution_count": null,
      "outputs": []
    }
  ],
  "metadata": {
    "accelerator": "GPU",
    "colab": {
      "collapsed_sections": [],
      "name": "Tugas 2.ipynb",
      "provenance": [],
      "include_colab_link": true
    },
    "kernelspec": {
      "display_name": "Python 3",
      "language": "python",
      "name": "python3"
    },
    "language_info": {
      "codemirror_mode": {
        "name": "ipython",
        "version": 3
      },
      "file_extension": ".py",
      "mimetype": "text/x-python",
      "name": "python",
      "nbconvert_exporter": "python",
      "pygments_lexer": "ipython3",
      "version": "3.8.5"
    }
  },
  "nbformat": 4,
  "nbformat_minor": 0
}